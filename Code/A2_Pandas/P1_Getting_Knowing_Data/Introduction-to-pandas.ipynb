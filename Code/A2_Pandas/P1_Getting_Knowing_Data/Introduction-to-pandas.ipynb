{
 "cells": [
  {
   "cell_type": "markdown",
   "id": "impressive-touch",
   "metadata": {},
   "source": [
    "## Introduction to Pandas"
   ]
  },
  {
   "cell_type": "code",
   "execution_count": 1,
   "id": "cellular-fleet",
   "metadata": {},
   "outputs": [],
   "source": [
    "import pandas as pd"
   ]
  },
  {
   "cell_type": "code",
   "execution_count": 2,
   "id": "mathematical-floating",
   "metadata": {},
   "outputs": [],
   "source": [
    "# 2 main datatypes: Series & DataFrame\n",
    "# Series = 1-D\n",
    "# DF.    = 2-D\n",
    "\n",
    "series = pd.Series([\"BMW\", \"Toyota\", \"Honda\"])\n",
    "colours = pd.Series([\"Red\", \"Blue\", \"White\"])"
   ]
  },
  {
   "cell_type": "code",
   "execution_count": 3,
   "id": "right-effort",
   "metadata": {},
   "outputs": [
    {
     "data": {
      "text/html": [
       "<div>\n",
       "<style scoped>\n",
       "    .dataframe tbody tr th:only-of-type {\n",
       "        vertical-align: middle;\n",
       "    }\n",
       "\n",
       "    .dataframe tbody tr th {\n",
       "        vertical-align: top;\n",
       "    }\n",
       "\n",
       "    .dataframe thead th {\n",
       "        text-align: right;\n",
       "    }\n",
       "</style>\n",
       "<table border=\"1\" class=\"dataframe\">\n",
       "  <thead>\n",
       "    <tr style=\"text-align: right;\">\n",
       "      <th></th>\n",
       "      <th>Car make</th>\n",
       "      <th>Colour</th>\n",
       "    </tr>\n",
       "  </thead>\n",
       "  <tbody>\n",
       "    <tr>\n",
       "      <th>0</th>\n",
       "      <td>BMW</td>\n",
       "      <td>Red</td>\n",
       "    </tr>\n",
       "    <tr>\n",
       "      <th>1</th>\n",
       "      <td>Toyota</td>\n",
       "      <td>Blue</td>\n",
       "    </tr>\n",
       "    <tr>\n",
       "      <th>2</th>\n",
       "      <td>Honda</td>\n",
       "      <td>White</td>\n",
       "    </tr>\n",
       "  </tbody>\n",
       "</table>\n",
       "</div>"
      ],
      "text/plain": [
       "  Car make Colour\n",
       "0      BMW    Red\n",
       "1   Toyota   Blue\n",
       "2    Honda  White"
      ]
     },
     "execution_count": 3,
     "metadata": {},
     "output_type": "execute_result"
    }
   ],
   "source": [
    "car_data = pd.DataFrame({\"Car make\": series, \"Colour\" : colours})\n",
    "car_data"
   ]
  },
  {
   "cell_type": "code",
   "execution_count": null,
   "id": "unnecessary-newsletter",
   "metadata": {},
   "outputs": [],
   "source": [
    "# Import data\n",
    "car_sales = pd.read_csv(\"./data/car-sales.csv\")"
   ]
  },
  {
   "cell_type": "code",
   "execution_count": null,
   "id": "present-fisher",
   "metadata": {},
   "outputs": [],
   "source": [
    "car_sales"
   ]
  },
  {
   "cell_type": "markdown",
   "id": "abroad-province",
   "metadata": {},
   "source": [
    "## Describe Data"
   ]
  },
  {
   "cell_type": "code",
   "execution_count": null,
   "id": "reduced-maine",
   "metadata": {},
   "outputs": [],
   "source": [
    "# Attributes\n",
    "car_sales.dtypes"
   ]
  },
  {
   "cell_type": "code",
   "execution_count": null,
   "id": "professional-acoustic",
   "metadata": {},
   "outputs": [],
   "source": [
    "car_sales.columns"
   ]
  },
  {
   "cell_type": "code",
   "execution_count": null,
   "id": "infectious-satin",
   "metadata": {},
   "outputs": [],
   "source": [
    "car_colums = car_sales.columns\n",
    "car_colums"
   ]
  },
  {
   "cell_type": "code",
   "execution_count": null,
   "id": "lyric-savannah",
   "metadata": {},
   "outputs": [],
   "source": [
    "car_sales.index"
   ]
  },
  {
   "cell_type": "code",
   "execution_count": null,
   "id": "hairy-brake",
   "metadata": {},
   "outputs": [],
   "source": [
    "# Function\n",
    "car_sales.describe()"
   ]
  },
  {
   "cell_type": "code",
   "execution_count": null,
   "id": "expensive-taiwan",
   "metadata": {},
   "outputs": [],
   "source": [
    "car_sales.info()"
   ]
  },
  {
   "cell_type": "code",
   "execution_count": null,
   "id": "anticipated-rebecca",
   "metadata": {},
   "outputs": [],
   "source": [
    "car_sales.mean()"
   ]
  },
  {
   "cell_type": "code",
   "execution_count": null,
   "id": "herbal-moment",
   "metadata": {},
   "outputs": [],
   "source": [
    "car_prices = pd.Series([3000,1500,112045])\n",
    "car_prices.mean()"
   ]
  },
  {
   "cell_type": "code",
   "execution_count": null,
   "id": "sunrise-softball",
   "metadata": {},
   "outputs": [],
   "source": [
    "car_sales[\"Doors\"].sum()"
   ]
  },
  {
   "cell_type": "code",
   "execution_count": null,
   "id": "severe-mother",
   "metadata": {},
   "outputs": [],
   "source": [
    "len(car_sales)"
   ]
  },
  {
   "cell_type": "markdown",
   "id": "aware-chicago",
   "metadata": {},
   "source": [
    "## Viewing and selecting data"
   ]
  },
  {
   "cell_type": "code",
   "execution_count": null,
   "id": "civic-gamma",
   "metadata": {},
   "outputs": [],
   "source": [
    "car_sales.head()"
   ]
  },
  {
   "cell_type": "code",
   "execution_count": null,
   "id": "interior-european",
   "metadata": {},
   "outputs": [],
   "source": [
    "car_sales.tail()"
   ]
  },
  {
   "cell_type": "code",
   "execution_count": null,
   "id": "favorite-necklace",
   "metadata": {},
   "outputs": [],
   "source": [
    "# .loc and .iloc\n",
    "animals = pd.Series([\"cat\", \"dog\", \"Bird\", \"panda\", \"snake\"], index=[0,3,9,8,3])"
   ]
  },
  {
   "cell_type": "code",
   "execution_count": null,
   "id": "seasonal-region",
   "metadata": {},
   "outputs": [],
   "source": [
    "animals"
   ]
  },
  {
   "cell_type": "code",
   "execution_count": null,
   "id": "later-boxing",
   "metadata": {},
   "outputs": [],
   "source": [
    "# loc refers to index\n",
    "animals.loc[3]"
   ]
  },
  {
   "cell_type": "code",
   "execution_count": null,
   "id": "cordless-aurora",
   "metadata": {},
   "outputs": [],
   "source": [
    "# .iloc refers to position\n",
    "animals.iloc[3]"
   ]
  },
  {
   "cell_type": "markdown",
   "id": "animated-constitution",
   "metadata": {},
   "source": [
    "### Boolean Indexing"
   ]
  },
  {
   "cell_type": "code",
   "execution_count": null,
   "id": "governing-headline",
   "metadata": {},
   "outputs": [],
   "source": [
    "car_sales[car_sales[\"Odometer (KM)\"] > 100000]"
   ]
  },
  {
   "cell_type": "code",
   "execution_count": null,
   "id": "internal-attribute",
   "metadata": {},
   "outputs": [],
   "source": [
    "pd.crosstab(car_sales[\"Make\"], car_sales[\"Doors\"])"
   ]
  },
  {
   "cell_type": "code",
   "execution_count": null,
   "id": "iraqi-protocol",
   "metadata": {},
   "outputs": [],
   "source": [
    "# Groupy\n",
    "car_sales.groupby([\"Make\"]).mean()"
   ]
  },
  {
   "cell_type": "code",
   "execution_count": null,
   "id": "integrated-transparency",
   "metadata": {},
   "outputs": [],
   "source": [
    "car_sales[\"Odometer (KM)\"].plot()"
   ]
  },
  {
   "cell_type": "code",
   "execution_count": null,
   "id": "accessory-scene",
   "metadata": {},
   "outputs": [],
   "source": [
    "car_sales[\"Odometer (KM)\"].hist() #150000 & 200000 consider as Outliner"
   ]
  },
  {
   "cell_type": "code",
   "execution_count": null,
   "id": "linear-emission",
   "metadata": {},
   "outputs": [],
   "source": [
    "car_sales['Price'] = car_sales['Price'].replace('[\\$\\,\\.]',\"\",regex=True).astype(int)"
   ]
  },
  {
   "cell_type": "code",
   "execution_count": null,
   "id": "lesbian-consent",
   "metadata": {},
   "outputs": [],
   "source": [
    "car_sales.plot()"
   ]
  },
  {
   "cell_type": "code",
   "execution_count": null,
   "id": "descending-detection",
   "metadata": {},
   "outputs": [],
   "source": [
    "car_sales[\"Make\"] = car_sales[\"Make\"].str.lower()"
   ]
  },
  {
   "cell_type": "code",
   "execution_count": null,
   "id": "frequent-indonesia",
   "metadata": {},
   "outputs": [],
   "source": [
    "car_sales_missing = pd.read_csv(\"./data/car-sales-missing-data.csv\")\n",
    "car_sales_missing"
   ]
  },
  {
   "cell_type": "code",
   "execution_count": null,
   "id": "assumed-processor",
   "metadata": {},
   "outputs": [],
   "source": [
    "car_sales_missing[\"Odometer\"].fillna(car_sales_missing[\"Odometer\"].mean(), inplace = True)\n",
    "car_sales_missing"
   ]
  },
  {
   "cell_type": "code",
   "execution_count": null,
   "id": "changing-perception",
   "metadata": {},
   "outputs": [],
   "source": [
    "car_sales_missing.dropna(inplace=True)\n",
    "car_sales_missing"
   ]
  },
  {
   "cell_type": "markdown",
   "id": "about-professional",
   "metadata": {},
   "source": [
    "## Create new Columns for Pandas DF"
   ]
  },
  {
   "cell_type": "code",
   "execution_count": null,
   "id": "amended-sharing",
   "metadata": {},
   "outputs": [],
   "source": [
    "#columns from series\n",
    "\n",
    "seat_columns = pd.Series([5,5,5,5,5])\n",
    "\n",
    "# New column added\n",
    "car_sales[\"Seats\"] = seat_columns\n",
    "car_sales"
   ]
  },
  {
   "cell_type": "code",
   "execution_count": null,
   "id": "younger-grocery",
   "metadata": {},
   "outputs": [],
   "source": [
    "car_sales[\"Seats\"].fillna(5, inplace = True)"
   ]
  },
  {
   "cell_type": "code",
   "execution_count": null,
   "id": "reflected-remainder",
   "metadata": {},
   "outputs": [],
   "source": [
    "car_sales"
   ]
  },
  {
   "cell_type": "code",
   "execution_count": null,
   "id": "multiple-generation",
   "metadata": {},
   "outputs": [],
   "source": [
    "fuel_economy = [7.5, 9.2, 5.0, 9.6, 8.7, 4.7, 7.6,8.7,3.0,4.5]\n",
    "car_sales[\"Fuel per 100KM\"] = fuel_economy\n",
    "car_sales"
   ]
  },
  {
   "cell_type": "code",
   "execution_count": null,
   "id": "healthy-mortgage",
   "metadata": {},
   "outputs": [],
   "source": [
    "car_sales[\"Total fuel used (L)\"] = car_sales[\"Odometer (KM)\"]/100*car_sales[\"Fuel per 100KM\"]"
   ]
  },
  {
   "cell_type": "code",
   "execution_count": null,
   "id": "fiscal-serial",
   "metadata": {},
   "outputs": [],
   "source": [
    "car_sales"
   ]
  },
  {
   "cell_type": "code",
   "execution_count": null,
   "id": "marine-catholic",
   "metadata": {},
   "outputs": [],
   "source": [
    "car_sales[\"Number of wheels\"] = 4\n",
    "car_sales[\"Passed road safety\"] = True\n",
    "car_sales"
   ]
  },
  {
   "cell_type": "markdown",
   "id": "fancy-courtesy",
   "metadata": {},
   "source": [
    "## Sampling Data"
   ]
  },
  {
   "cell_type": "code",
   "execution_count": null,
   "id": "suitable-survey",
   "metadata": {},
   "outputs": [],
   "source": [
    "#Shuffle all the row\n",
    "car_sales_shuffled = car_sales.sample(frac=1)\n",
    "car_sales_shuffled"
   ]
  },
  {
   "cell_type": "code",
   "execution_count": null,
   "id": "amino-remove",
   "metadata": {},
   "outputs": [],
   "source": [
    "# Take a sample of the data to practise\n",
    "\n",
    "#Only select 20% of data\n",
    "car_sales_shuffled.sample(frac = 0.2)"
   ]
  },
  {
   "cell_type": "code",
   "execution_count": null,
   "id": "ready-commissioner",
   "metadata": {},
   "outputs": [],
   "source": [
    "# Revert the original index\n",
    "car_sales_shuffled.reset_index(drop=True, inplace=True)"
   ]
  },
  {
   "cell_type": "code",
   "execution_count": null,
   "id": "beneficial-screen",
   "metadata": {},
   "outputs": [],
   "source": [
    "car_sales_shuffled"
   ]
  },
  {
   "cell_type": "code",
   "execution_count": null,
   "id": "grand-uniform",
   "metadata": {},
   "outputs": [],
   "source": [
    "car_sales[\"Odometer (KM)\"] = car_sales[\"Odometer (KM)\"].apply(lambda x: x/1.6)"
   ]
  },
  {
   "cell_type": "code",
   "execution_count": null,
   "id": "private-fossil",
   "metadata": {},
   "outputs": [],
   "source": [
    "car_sales"
   ]
  },
  {
   "cell_type": "code",
   "execution_count": null,
   "id": "expensive-friday",
   "metadata": {},
   "outputs": [],
   "source": []
  }
 ],
 "metadata": {
  "kernelspec": {
   "display_name": "Python 3",
   "language": "python",
   "name": "python3"
  },
  "language_info": {
   "codemirror_mode": {
    "name": "ipython",
    "version": 3
   },
   "file_extension": ".py",
   "mimetype": "text/x-python",
   "name": "python",
   "nbconvert_exporter": "python",
   "pygments_lexer": "ipython3",
   "version": "3.8.8"
  }
 },
 "nbformat": 4,
 "nbformat_minor": 5
}
