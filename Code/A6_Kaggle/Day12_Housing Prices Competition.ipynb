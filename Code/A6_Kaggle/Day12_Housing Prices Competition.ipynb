{
 "cells": [
  {
   "cell_type": "code",
   "execution_count": 1,
   "id": "07d7bd2d",
   "metadata": {
    "_cell_guid": "b1076dfc-b9ad-4769-8c92-a6c4dae69d19",
    "_uuid": "8f2839f25d086af736a60e9eeb907d3b93b6e0e5",
    "execution": {
     "iopub.execute_input": "2021-08-15T03:43:11.802107Z",
     "iopub.status.busy": "2021-08-15T03:43:11.800938Z",
     "iopub.status.idle": "2021-08-15T03:43:11.814520Z",
     "shell.execute_reply": "2021-08-15T03:43:11.815049Z",
     "shell.execute_reply.started": "2021-08-15T02:46:18.327501Z"
    },
    "papermill": {
     "duration": 0.02756,
     "end_time": "2021-08-15T03:43:11.815353",
     "exception": false,
     "start_time": "2021-08-15T03:43:11.787793",
     "status": "completed"
    },
    "tags": []
   },
   "outputs": [
    {
     "name": "stdout",
     "output_type": "stream",
     "text": [
      "/kaggle/input/home-data-for-ml-course/sample_submission.csv\n",
      "/kaggle/input/home-data-for-ml-course/sample_submission.csv.gz\n",
      "/kaggle/input/home-data-for-ml-course/train.csv.gz\n",
      "/kaggle/input/home-data-for-ml-course/data_description.txt\n",
      "/kaggle/input/home-data-for-ml-course/test.csv.gz\n",
      "/kaggle/input/home-data-for-ml-course/train.csv\n",
      "/kaggle/input/home-data-for-ml-course/test.csv\n"
     ]
    }
   ],
   "source": [
    "# This Python 3 environment comes with many helpful analytics libraries installed\n",
    "# It is defined by the kaggle/python Docker image: https://github.com/kaggle/docker-python\n",
    "# For example, here's several helpful packages to load\n",
    "\n",
    "import numpy as np # linear algebra\n",
    "import pandas as pd # data processing, CSV file I/O (e.g. pd.read_csv)\n",
    "\n",
    "# Input data files are available in the read-only \"../input/\" directory\n",
    "# For example, running this (by clicking run or pressing Shift+Enter) will list all files under the input directory\n",
    "\n",
    "import os\n",
    "for dirname, _, filenames in os.walk('/kaggle/input'):\n",
    "    for filename in filenames:\n",
    "        print(os.path.join(dirname, filename))\n",
    "\n",
    "# You can write up to 20GB to the current directory (/kaggle/working/) that gets preserved as output when you create a version using \"Save & Run All\" \n",
    "# You can also write temporary files to /kaggle/temp/, but they won't be saved outside of the current session"
   ]
  },
  {
   "cell_type": "code",
   "execution_count": 2,
   "id": "7def9f9a",
   "metadata": {
    "execution": {
     "iopub.execute_input": "2021-08-15T03:43:11.837576Z",
     "iopub.status.busy": "2021-08-15T03:43:11.836898Z",
     "iopub.status.idle": "2021-08-15T03:43:13.077546Z",
     "shell.execute_reply": "2021-08-15T03:43:13.076802Z",
     "shell.execute_reply.started": "2021-08-15T03:10:19.101028Z"
    },
    "papermill": {
     "duration": 1.252221,
     "end_time": "2021-08-15T03:43:13.077693",
     "exception": false,
     "start_time": "2021-08-15T03:43:11.825472",
     "status": "completed"
    },
    "tags": []
   },
   "outputs": [],
   "source": [
    "# Import helpful libraries\n",
    "import pandas as pd\n",
    "import numpy as np\n",
    "from sklearn.ensemble import RandomForestRegressor, GradientBoostingRegressor\n",
    "from sklearn.metrics import mean_absolute_error, mean_squared_error #Submissions are evaluated on Root-Mean-Squared-Error (RMSE) between the logarithm of the predicted value and the logarithm of the observed sales price.\n",
    "from sklearn.model_selection import train_test_split\n",
    "\n",
    "# Load the data, and separate the target\n",
    "iowa_file_path = '../input/home-data-for-ml-course/train.csv'\n",
    "home_data = pd.read_csv(iowa_file_path)\n",
    "y = home_data.SalePrice\n",
    "\n",
    "# Create X (After completing the exercise, you can return to modify this line!)\n",
    "#features = ['LotArea', 'YearBuilt', '1stFlrSF', '2ndFlrSF', 'FullBath', 'BedroomAbvGr', 'TotRmsAbvGrd']\n"
   ]
  },
  {
   "cell_type": "code",
   "execution_count": 3,
   "id": "fed68f38",
   "metadata": {
    "execution": {
     "iopub.execute_input": "2021-08-15T03:43:13.101919Z",
     "iopub.status.busy": "2021-08-15T03:43:13.101196Z",
     "iopub.status.idle": "2021-08-15T03:43:13.104152Z",
     "shell.execute_reply": "2021-08-15T03:43:13.104647Z",
     "shell.execute_reply.started": "2021-08-15T03:01:48.233770Z"
    },
    "papermill": {
     "duration": 0.017924,
     "end_time": "2021-08-15T03:43:13.104807",
     "exception": false,
     "start_time": "2021-08-15T03:43:13.086883",
     "status": "completed"
    },
    "tags": []
   },
   "outputs": [],
   "source": [
    "# Create X (After completing the exercise, you can return to modify this line!)\n",
    "features = [\n",
    "    'MSSubClass',\n",
    "    'LotArea',\n",
    "    'OverallQual',\n",
    "    'OverallCond',\n",
    "    'YearBuilt',\n",
    "    'YearRemodAdd', \n",
    "    '1stFlrSF',\n",
    "    '2ndFlrSF' ,\n",
    "    'LowQualFinSF',\n",
    "    'GrLivArea',\n",
    "    'FullBath',\n",
    "    'HalfBath',\n",
    "    'BedroomAbvGr',\n",
    "    'KitchenAbvGr', \n",
    "    'TotRmsAbvGrd',\n",
    "    'Fireplaces', \n",
    "    'WoodDeckSF' ,\n",
    "    'OpenPorchSF',\n",
    "    'EnclosedPorch',\n",
    "    '3SsnPorch', \n",
    "    'ScreenPorch',\n",
    "    'PoolArea',\n",
    "    'MiscVal',\n",
    "    'MoSold',\n",
    "    'YrSold'\n",
    "]"
   ]
  },
  {
   "cell_type": "code",
   "execution_count": 4,
   "id": "ac795a42",
   "metadata": {
    "execution": {
     "iopub.execute_input": "2021-08-15T03:43:13.126743Z",
     "iopub.status.busy": "2021-08-15T03:43:13.126039Z",
     "iopub.status.idle": "2021-08-15T03:43:20.892772Z",
     "shell.execute_reply": "2021-08-15T03:43:20.893262Z",
     "shell.execute_reply.started": "2021-08-15T03:40:09.224892Z"
    },
    "papermill": {
     "duration": 7.779176,
     "end_time": "2021-08-15T03:43:20.893480",
     "exception": false,
     "start_time": "2021-08-15T03:43:13.114304",
     "status": "completed"
    },
    "tags": []
   },
   "outputs": [
    {
     "name": "stdout",
     "output_type": "stream",
     "text": [
      "Validation RMSE for Random Forest Model: 26,895\n",
      "Validation RMSE for Gradient Boosting Model: 24,597\n",
      "Validation RMSE for Mean Prediction of 2 Models: 23,834\n"
     ]
    }
   ],
   "source": [
    "# Select columns corresponding to features, and preview the data\n",
    "X = home_data[features]\n",
    "\n",
    "\n",
    "# Split into validation and training data\n",
    "train_X, val_X, train_y, val_y = train_test_split(X, y, random_state=1)\n",
    "\n",
    "# Define a random forest model\n",
    "rf_model = RandomForestRegressor(random_state=1, n_estimators=700)\n",
    "rf_model.fit(train_X, train_y)\n",
    "rf_val_predictions = rf_model.predict(val_X)\n",
    "rf_val_rmse = np.sqrt(mean_squared_error(rf_val_predictions, val_y))\n",
    "\n",
    "gbm_model = GradientBoostingRegressor(random_state=1, n_estimators=500)\n",
    "gbm_model.fit(train_X, train_y)\n",
    "gbm_val_predictions = gbm_model.predict(val_X)\n",
    "gbm_val_rmse = np.sqrt(mean_squared_error(gbm_val_predictions, val_y))\n",
    "\n",
    "mean_2model_val_predictions = (rf_val_predictions + gbm_val_predictions)/2\n",
    "mean_2model_val_rmse = np.sqrt(mean_squared_error(mean_2model_val_predictions, val_y))\n",
    "\n",
    "print(\"Validation RMSE for Random Forest Model: {:,.0f}\".format(rf_val_rmse))\n",
    "print(\"Validation RMSE for Gradient Boosting Model: {:,.0f}\".format(gbm_val_rmse))\n",
    "print(\"Validation RMSE for Mean Prediction of 2 Models: {:,.0f}\".format(mean_2model_val_rmse))"
   ]
  },
  {
   "cell_type": "code",
   "execution_count": 5,
   "id": "87e88081",
   "metadata": {
    "execution": {
     "iopub.execute_input": "2021-08-15T03:43:20.917251Z",
     "iopub.status.busy": "2021-08-15T03:43:20.916646Z",
     "iopub.status.idle": "2021-08-15T03:43:20.918748Z",
     "shell.execute_reply": "2021-08-15T03:43:20.919237Z",
     "shell.execute_reply.started": "2021-08-15T02:52:49.030875Z"
    },
    "papermill": {
     "duration": 0.016227,
     "end_time": "2021-08-15T03:43:20.919401",
     "exception": false,
     "start_time": "2021-08-15T03:43:20.903174",
     "status": "completed"
    },
    "tags": []
   },
   "outputs": [],
   "source": [
    "#?RandomForestRegressor "
   ]
  },
  {
   "cell_type": "code",
   "execution_count": 6,
   "id": "4b3573a6",
   "metadata": {
    "execution": {
     "iopub.execute_input": "2021-08-15T03:43:20.941585Z",
     "iopub.status.busy": "2021-08-15T03:43:20.940666Z",
     "iopub.status.idle": "2021-08-15T03:43:30.827997Z",
     "shell.execute_reply": "2021-08-15T03:43:30.828507Z",
     "shell.execute_reply.started": "2021-08-15T03:41:31.585294Z"
    },
    "papermill": {
     "duration": 9.899838,
     "end_time": "2021-08-15T03:43:30.828673",
     "exception": false,
     "start_time": "2021-08-15T03:43:20.928835",
     "status": "completed"
    },
    "tags": []
   },
   "outputs": [
    {
     "data": {
      "text/plain": [
       "GradientBoostingRegressor(n_estimators=500, random_state=1)"
      ]
     },
     "execution_count": 6,
     "metadata": {},
     "output_type": "execute_result"
    }
   ],
   "source": [
    "# To improve accuracy, create a new Random Forest model which you will train on all training data\n",
    "rf_model.fit(X,y)\n",
    "gbm_model.fit(X,y)"
   ]
  },
  {
   "cell_type": "code",
   "execution_count": 7,
   "id": "701f28ab",
   "metadata": {
    "execution": {
     "iopub.execute_input": "2021-08-15T03:43:30.853856Z",
     "iopub.status.busy": "2021-08-15T03:43:30.853151Z",
     "iopub.status.idle": "2021-08-15T03:43:31.128150Z",
     "shell.execute_reply": "2021-08-15T03:43:31.128649Z",
     "shell.execute_reply.started": "2021-08-15T03:42:36.364752Z"
    },
    "papermill": {
     "duration": 0.290491,
     "end_time": "2021-08-15T03:43:31.128831",
     "exception": false,
     "start_time": "2021-08-15T03:43:30.838340",
     "status": "completed"
    },
    "tags": []
   },
   "outputs": [],
   "source": [
    "# path to file you will use for predictions\n",
    "test_data_path = '../input/home-data-for-ml-course/test.csv'\n",
    "\n",
    "# read test data file using pandas\n",
    "test_data = pd.read_csv(test_data_path)\n",
    "test_data = test_data.fillna(-1)\n",
    "# create test_X which comes from test_data but includes only the columns you used for prediction.\n",
    "# The list of columns is stored in a variable called features\n",
    "test_X = test_data[features]\n",
    "\n",
    "# make predictions which we will submit. \n",
    "test_preds1 = rf_model.predict(test_X)\n",
    "test_preds2 = gbm_model.predict(test_X)\n",
    "\n",
    "test_preds = (test_preds1 + test_preds2)/2"
   ]
  },
  {
   "cell_type": "code",
   "execution_count": 8,
   "id": "4a01247c",
   "metadata": {
    "execution": {
     "iopub.execute_input": "2021-08-15T03:43:31.154336Z",
     "iopub.status.busy": "2021-08-15T03:43:31.153705Z",
     "iopub.status.idle": "2021-08-15T03:43:31.165500Z",
     "shell.execute_reply": "2021-08-15T03:43:31.164833Z",
     "shell.execute_reply.started": "2021-08-15T03:42:39.697331Z"
    },
    "papermill": {
     "duration": 0.027107,
     "end_time": "2021-08-15T03:43:31.165641",
     "exception": false,
     "start_time": "2021-08-15T03:43:31.138534",
     "status": "completed"
    },
    "tags": []
   },
   "outputs": [],
   "source": [
    "# Run the code to save predictions in the format used for competition scoring\n",
    "\n",
    "output = pd.DataFrame({'Id': test_data.Id,\n",
    "                       'SalePrice': test_preds})\n",
    "output.to_csv('submission.csv', index=False)"
   ]
  },
  {
   "cell_type": "code",
   "execution_count": 9,
   "id": "795c92eb",
   "metadata": {
    "execution": {
     "iopub.execute_input": "2021-08-15T03:43:31.190219Z",
     "iopub.status.busy": "2021-08-15T03:43:31.189600Z",
     "iopub.status.idle": "2021-08-15T03:43:31.201419Z",
     "shell.execute_reply": "2021-08-15T03:43:31.200904Z",
     "shell.execute_reply.started": "2021-08-15T03:42:41.777270Z"
    },
    "papermill": {
     "duration": 0.026074,
     "end_time": "2021-08-15T03:43:31.201571",
     "exception": false,
     "start_time": "2021-08-15T03:43:31.175497",
     "status": "completed"
    },
    "tags": []
   },
   "outputs": [
    {
     "data": {
      "text/html": [
       "<div>\n",
       "<style scoped>\n",
       "    .dataframe tbody tr th:only-of-type {\n",
       "        vertical-align: middle;\n",
       "    }\n",
       "\n",
       "    .dataframe tbody tr th {\n",
       "        vertical-align: top;\n",
       "    }\n",
       "\n",
       "    .dataframe thead th {\n",
       "        text-align: right;\n",
       "    }\n",
       "</style>\n",
       "<table border=\"1\" class=\"dataframe\">\n",
       "  <thead>\n",
       "    <tr style=\"text-align: right;\">\n",
       "      <th></th>\n",
       "      <th>Id</th>\n",
       "      <th>SalePrice</th>\n",
       "    </tr>\n",
       "  </thead>\n",
       "  <tbody>\n",
       "    <tr>\n",
       "      <th>0</th>\n",
       "      <td>1461</td>\n",
       "      <td>127695.257638</td>\n",
       "    </tr>\n",
       "    <tr>\n",
       "      <th>1</th>\n",
       "      <td>1462</td>\n",
       "      <td>158944.116706</td>\n",
       "    </tr>\n",
       "    <tr>\n",
       "      <th>2</th>\n",
       "      <td>1463</td>\n",
       "      <td>177126.990807</td>\n",
       "    </tr>\n",
       "    <tr>\n",
       "      <th>3</th>\n",
       "      <td>1464</td>\n",
       "      <td>191648.425977</td>\n",
       "    </tr>\n",
       "    <tr>\n",
       "      <th>4</th>\n",
       "      <td>1465</td>\n",
       "      <td>196206.122025</td>\n",
       "    </tr>\n",
       "  </tbody>\n",
       "</table>\n",
       "</div>"
      ],
      "text/plain": [
       "     Id      SalePrice\n",
       "0  1461  127695.257638\n",
       "1  1462  158944.116706\n",
       "2  1463  177126.990807\n",
       "3  1464  191648.425977\n",
       "4  1465  196206.122025"
      ]
     },
     "execution_count": 9,
     "metadata": {},
     "output_type": "execute_result"
    }
   ],
   "source": [
    "output.head()"
   ]
  }
 ],
 "metadata": {
  "kernelspec": {
   "display_name": "Python 3",
   "language": "python",
   "name": "python3"
  },
  "language_info": {
   "codemirror_mode": {
    "name": "ipython",
    "version": 3
   },
   "file_extension": ".py",
   "mimetype": "text/x-python",
   "name": "python",
   "nbconvert_exporter": "python",
   "pygments_lexer": "ipython3",
   "version": "3.7.10"
  },
  "papermill": {
   "default_parameters": {},
   "duration": 28.760462,
   "end_time": "2021-08-15T03:43:32.700610",
   "environment_variables": {},
   "exception": null,
   "input_path": "__notebook__.ipynb",
   "output_path": "__notebook__.ipynb",
   "parameters": {},
   "start_time": "2021-08-15T03:43:03.940148",
   "version": "2.3.3"
  }
 },
 "nbformat": 4,
 "nbformat_minor": 5
}
